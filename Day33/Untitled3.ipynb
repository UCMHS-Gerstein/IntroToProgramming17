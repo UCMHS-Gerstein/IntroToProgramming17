{
 "cells": [
  {
   "cell_type": "code",
   "execution_count": 95,
   "metadata": {
    "collapsed": true
   },
   "outputs": [],
   "source": [
    "class Character(object):\n",
    "    \n",
    "    def __init__(self, name, strength=5):\n",
    "        self.name = name\n",
    "        self.strength = strength\n",
    "    \n",
    "    def introduce(self):\n",
    "        print(f\"Hi, My name is {self.name}\")\n",
    "    \n",
    "    def talk_to(self, other_character):\n",
    "        print(f\"Good morning, {other_character.name}. I\\'m {self.name}.\")\n",
    "    \n",
    "    def attack(self, some_monster):\n",
    "        some_monster.hp -= self.strength\n",
    "        some_monster.status()\n",
    "\n",
    "class Monster(object):\n",
    "    \n",
    "    def __init__(self, name):\n",
    "        self.name = name\n",
    "        self.hp = 100\n",
    "    \n",
    "    def status(self):\n",
    "        print(f\"{self.name} is currently at {self.hp} health\")"
   ]
  },
  {
   "cell_type": "code",
   "execution_count": 96,
   "metadata": {},
   "outputs": [],
   "source": [
    "a = Character('An')\n",
    "p = Character('Preston', 6)\n",
    "monster = Monster('Jerry')"
   ]
  },
  {
   "cell_type": "code",
   "execution_count": 97,
   "metadata": {},
   "outputs": [
    {
     "name": "stdout",
     "output_type": "stream",
     "text": [
      "Hi, My name is An\n",
      "Hi, My name is Preston\n"
     ]
    }
   ],
   "source": [
    "a.introduce()\n",
    "p.introduce()"
   ]
  },
  {
   "cell_type": "code",
   "execution_count": 98,
   "metadata": {},
   "outputs": [
    {
     "name": "stdout",
     "output_type": "stream",
     "text": [
      "Good morning, Preston. I'm An.\n"
     ]
    }
   ],
   "source": [
    "a.talk_to(p)"
   ]
  },
  {
   "cell_type": "code",
   "execution_count": 99,
   "metadata": {},
   "outputs": [
    {
     "name": "stdout",
     "output_type": "stream",
     "text": [
      "Hi, My name is Preston\n"
     ]
    }
   ],
   "source": [
    "p.introduce()"
   ]
  },
  {
   "cell_type": "code",
   "execution_count": 101,
   "metadata": {},
   "outputs": [
    {
     "name": "stdout",
     "output_type": "stream",
     "text": [
      "Jerry is currently at 95 health\n"
     ]
    }
   ],
   "source": [
    "a.attack(monster)"
   ]
  },
  {
   "cell_type": "code",
   "execution_count": 102,
   "metadata": {},
   "outputs": [
    {
     "name": "stdout",
     "output_type": "stream",
     "text": [
      "Jerry is currently at 89 health\n",
      "Jerry is currently at 83 health\n",
      "Jerry is currently at 77 health\n",
      "Jerry is currently at 71 health\n",
      "Jerry is currently at 65 health\n",
      "Jerry is currently at 59 health\n",
      "Jerry is currently at 53 health\n"
     ]
    }
   ],
   "source": [
    "for x in range(7):\n",
    "    p.attack(monster)"
   ]
  },
  {
   "cell_type": "code",
   "execution_count": null,
   "metadata": {
    "collapsed": true
   },
   "outputs": [],
   "source": []
  }
 ],
 "metadata": {
  "kernelspec": {
   "display_name": "Python 3",
   "language": "python",
   "name": "python3"
  },
  "language_info": {
   "codemirror_mode": {
    "name": "ipython",
    "version": 3
   },
   "file_extension": ".py",
   "mimetype": "text/x-python",
   "name": "python",
   "nbconvert_exporter": "python",
   "pygments_lexer": "ipython3",
   "version": "3.6.3"
  }
 },
 "nbformat": 4,
 "nbformat_minor": 2
}
