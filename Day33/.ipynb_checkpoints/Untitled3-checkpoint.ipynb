{
 "cells": [
  {
   "cell_type": "code",
   "execution_count": 71,
   "metadata": {
    "collapsed": true
   },
   "outputs": [],
   "source": [
    "class Character(object):\n",
    "    \n",
    "    def __init__(self, name):\n",
    "        self.name = name\n",
    "    \n",
    "    def introduce(self):\n",
    "        print(f\"Hi, My name is {self.name}\")\n",
    "    \n",
    "    def talk_to(self, other_character):\n",
    "        print(f\"Good morning, {other_character.name}. I\\'m {self.name}.\")\n",
    "    \n",
    "    def attack(self, some_monster, strength):\n",
    "        some_monster.hp -= strength\n",
    "        some_monster.status()\n",
    "\n",
    "class Monster(object):\n",
    "    \n",
    "    def __init__(self, name):\n",
    "        self.name = name\n",
    "        self.hp = 100\n",
    "    \n",
    "    def status(self):\n",
    "        print(f\"{self.name} is currently at {self.hp} health\")"
   ]
  },
  {
   "cell_type": "code",
   "execution_count": 72,
   "metadata": {},
   "outputs": [],
   "source": [
    "a = Character('An')\n",
    "p = Character('Preston')\n",
    "monster = Monster('Jerry')"
   ]
  },
  {
   "cell_type": "code",
   "execution_count": 73,
   "metadata": {},
   "outputs": [
    {
     "name": "stdout",
     "output_type": "stream",
     "text": [
      "Hi, My name is An\n",
      "Hi, My name is Preston\n"
     ]
    }
   ],
   "source": [
    "a.introduce()\n",
    "p.introduce()"
   ]
  },
  {
   "cell_type": "code",
   "execution_count": 74,
   "metadata": {},
   "outputs": [
    {
     "name": "stdout",
     "output_type": "stream",
     "text": [
      "Good morning, Preston. I'm An.\n"
     ]
    }
   ],
   "source": [
    "a.talk_to(p)"
   ]
  },
  {
   "cell_type": "code",
   "execution_count": 75,
   "metadata": {},
   "outputs": [
    {
     "name": "stdout",
     "output_type": "stream",
     "text": [
      "Hi, My name is Preston\n"
     ]
    }
   ],
   "source": [
    "p.introduce()"
   ]
  },
  {
   "cell_type": "code",
   "execution_count": 76,
   "metadata": {},
   "outputs": [
    {
     "name": "stdout",
     "output_type": "stream",
     "text": [
      "Jerry is current at 99 health\n"
     ]
    }
   ],
   "source": [
    "a.attack(monster)"
   ]
  },
  {
   "cell_type": "code",
   "execution_count": 78,
   "metadata": {},
   "outputs": [
    {
     "name": "stdout",
     "output_type": "stream",
     "text": [
      "Jerry is current at 98 health\n",
      "Jerry is current at 97 health\n",
      "Jerry is current at 96 health\n",
      "Jerry is current at 95 health\n",
      "Jerry is current at 94 health\n",
      "Jerry is current at 93 health\n",
      "Jerry is current at 92 health\n",
      "Jerry is current at 91 health\n",
      "Jerry is current at 90 health\n",
      "Jerry is current at 89 health\n",
      "Jerry is current at 88 health\n",
      "Jerry is current at 87 health\n",
      "Jerry is current at 86 health\n",
      "Jerry is current at 85 health\n",
      "Jerry is current at 84 health\n",
      "Jerry is current at 83 health\n",
      "Jerry is current at 82 health\n",
      "Jerry is current at 81 health\n",
      "Jerry is current at 80 health\n",
      "Jerry is current at 79 health\n",
      "Jerry is current at 78 health\n",
      "Jerry is current at 77 health\n",
      "Jerry is current at 76 health\n",
      "Jerry is current at 75 health\n",
      "Jerry is current at 74 health\n",
      "Jerry is current at 73 health\n",
      "Jerry is current at 72 health\n",
      "Jerry is current at 71 health\n",
      "Jerry is current at 70 health\n",
      "Jerry is current at 69 health\n",
      "Jerry is current at 68 health\n",
      "Jerry is current at 67 health\n",
      "Jerry is current at 66 health\n",
      "Jerry is current at 65 health\n",
      "Jerry is current at 64 health\n",
      "Jerry is current at 63 health\n",
      "Jerry is current at 62 health\n",
      "Jerry is current at 61 health\n",
      "Jerry is current at 60 health\n",
      "Jerry is current at 59 health\n",
      "Jerry is current at 58 health\n",
      "Jerry is current at 57 health\n",
      "Jerry is current at 56 health\n",
      "Jerry is current at 55 health\n",
      "Jerry is current at 54 health\n",
      "Jerry is current at 53 health\n",
      "Jerry is current at 52 health\n",
      "Jerry is current at 51 health\n",
      "Jerry is current at 50 health\n",
      "Jerry is current at 49 health\n"
     ]
    }
   ],
   "source": [
    "for x in range(50):\n",
    "    p.attack(monster)"
   ]
  }
 ],
 "metadata": {
  "kernelspec": {
   "display_name": "Python 3",
   "language": "python",
   "name": "python3"
  },
  "language_info": {
   "codemirror_mode": {
    "name": "ipython",
    "version": 3
   },
   "file_extension": ".py",
   "mimetype": "text/x-python",
   "name": "python",
   "nbconvert_exporter": "python",
   "pygments_lexer": "ipython3",
   "version": "3.6.3"
  }
 },
 "nbformat": 4,
 "nbformat_minor": 2
}
