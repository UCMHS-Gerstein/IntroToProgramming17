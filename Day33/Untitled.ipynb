{
 "cells": [
  {
   "cell_type": "code",
   "execution_count": 213,
   "metadata": {
    "collapsed": true
   },
   "outputs": [],
   "source": [
    "class Rocket(object):\n",
    "    \"\"\"\n",
    "    ATTRIBUTES\n",
    "    x, y\n",
    "    fuel\n",
    "    \n",
    "    METHODS\n",
    "    move\n",
    "    land   \n",
    "    \"\"\"\n",
    "    \n",
    "    def __init__(self, vel_y):\n",
    "        self.x = 0\n",
    "        self.y = 0\n",
    "        self.vel_x = 1\n",
    "        self.vel_y = vel_y\n",
    "        self.fuel = 100\n",
    "        self.grav = -.98\n",
    "        self.boost = 2\n",
    "    \n",
    "    def move(self):\n",
    "        self.x += self.vel_x\n",
    "        self.y += self.vel_y\n",
    "        self.vel_y += self.grav\n",
    "        if self.fuel > 0:\n",
    "            self.vel_y += self.boost\n",
    "            self.fuel -= .1\n",
    "        if self.y < 0:\n",
    "            self.vel_y = 0\n",
    "            self.vel_x = 0\n",
    "    \n",
    "    def status(self):\n",
    "        print(f\"Current location: {self.x}, {self.y}\")\n",
    "        print(f\"Velocity: {self.vel_x}, {round(self.vel_y, 2)}\")\n",
    "        print(f\"Fuel: {round(self.fuel, 2)}%\")\n",
    "        print('---')\n",
    "    \n",
    "    def __str__(self):\n",
    "        return \"Rocket:\" + str(self.vel_y)"
   ]
  },
  {
   "cell_type": "code",
   "execution_count": 214,
   "metadata": {},
   "outputs": [],
   "source": [
    "rockets = []\n",
    "\n",
    "for x in range(0, 101, 10):\n",
    "    rockets.append(Rocket(x))"
   ]
  },
  {
   "cell_type": "code",
   "execution_count": 217,
   "metadata": {},
   "outputs": [
    {
     "name": "stdout",
     "output_type": "stream",
     "text": [
      "Rocket:1.02\n",
      "Rocket:11.02\n",
      "Rocket:21.02\n",
      "Rocket:31.02\n",
      "Rocket:41.02\n",
      "Rocket:51.02\n",
      "Rocket:61.02\n",
      "Rocket:71.02\n",
      "Rocket:81.02\n",
      "Rocket:91.02\n",
      "Rocket:101.02\n"
     ]
    }
   ],
   "source": [
    "for r in rockets:\n",
    "    print(r)"
   ]
  },
  {
   "cell_type": "code",
   "execution_count": 226,
   "metadata": {},
   "outputs": [
    {
     "name": "stdout",
     "output_type": "stream",
     "text": [
      "Current location: 10, 45.89999999999999\n",
      "Velocity: 1, 10.2\n",
      "Fuel: 99.0%\n",
      "---\n",
      "Current location: 10, 145.89999999999998\n",
      "Velocity: 1, 20.2\n",
      "Fuel: 99.0%\n",
      "---\n",
      "Current location: 10, 245.89999999999998\n",
      "Velocity: 1, 30.2\n",
      "Fuel: 99.0%\n",
      "---\n",
      "Current location: 10, 345.9000000000001\n",
      "Velocity: 1, 40.2\n",
      "Fuel: 99.0%\n",
      "---\n",
      "Current location: 10, 445.90000000000015\n",
      "Velocity: 1, 50.2\n",
      "Fuel: 99.0%\n",
      "---\n",
      "Current location: 10, 545.9000000000002\n",
      "Velocity: 1, 60.2\n",
      "Fuel: 99.0%\n",
      "---\n",
      "Current location: 10, 645.9000000000001\n",
      "Velocity: 1, 70.2\n",
      "Fuel: 99.0%\n",
      "---\n",
      "Current location: 10, 745.8999999999997\n",
      "Velocity: 1, 80.2\n",
      "Fuel: 99.0%\n",
      "---\n",
      "Current location: 10, 845.8999999999997\n",
      "Velocity: 1, 90.2\n",
      "Fuel: 99.0%\n",
      "---\n",
      "Current location: 10, 945.8999999999999\n",
      "Velocity: 1, 100.2\n",
      "Fuel: 99.0%\n",
      "---\n",
      "Current location: 10, 1045.8999999999999\n",
      "Velocity: 1, 110.2\n",
      "Fuel: 99.0%\n",
      "---\n"
     ]
    }
   ],
   "source": [
    "for rocket in rockets:\n",
    "    rocket.move()\n",
    "    rocket.status()"
   ]
  },
  {
   "cell_type": "code",
   "execution_count": null,
   "metadata": {
    "collapsed": true
   },
   "outputs": [],
   "source": []
  },
  {
   "cell_type": "code",
   "execution_count": null,
   "metadata": {
    "collapsed": true
   },
   "outputs": [],
   "source": []
  }
 ],
 "metadata": {
  "kernelspec": {
   "display_name": "Python 3",
   "language": "python",
   "name": "python3"
  },
  "language_info": {
   "codemirror_mode": {
    "name": "ipython",
    "version": 3
   },
   "file_extension": ".py",
   "mimetype": "text/x-python",
   "name": "python",
   "nbconvert_exporter": "python",
   "pygments_lexer": "ipython3",
   "version": "3.6.3"
  }
 },
 "nbformat": 4,
 "nbformat_minor": 2
}
