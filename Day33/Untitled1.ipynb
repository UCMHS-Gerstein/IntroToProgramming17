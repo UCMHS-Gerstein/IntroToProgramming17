{
 "cells": [
  {
   "cell_type": "code",
   "execution_count": 46,
   "metadata": {
    "collapsed": true
   },
   "outputs": [],
   "source": [
    "class Character(object):\n",
    "    \n",
    "    def __init__(self, name, strength=5):\n",
    "        self.name = name\n",
    "        self.strength = strength\n",
    "    \n",
    "    def introduce(self):\n",
    "        print(f\"Hi, I'm {self.name}\")\n",
    "    \n",
    "    def talk_to(self, other_character):\n",
    "        print(f\"Good morning {other_character.name}\")\n",
    "    \n",
    "    def attack(self, some_monster):\n",
    "        some_monster.hp -= self.strength\n",
    "        some_monster.status()\n",
    "\n",
    "class Monster(object):\n",
    "    \n",
    "    def __init__(self, name):\n",
    "        self.name = name\n",
    "        self.hp = 100\n",
    "    \n",
    "    def status(self):\n",
    "        print(f\"The monster {self.name} is at {self.hp} health\")"
   ]
  },
  {
   "cell_type": "code",
   "execution_count": 52,
   "metadata": {},
   "outputs": [],
   "source": [
    "g = Character(\"Greyson\", 7)\n",
    "m = Character(\"Massi\")\n",
    "monster = Monster('wendigo')"
   ]
  },
  {
   "cell_type": "code",
   "execution_count": 53,
   "metadata": {},
   "outputs": [
    {
     "name": "stdout",
     "output_type": "stream",
     "text": [
      "Hi, I'm Massi\n",
      "Hi, I'm Greyson\n"
     ]
    }
   ],
   "source": [
    "m.introduce()\n",
    "g.introduce()"
   ]
  },
  {
   "cell_type": "code",
   "execution_count": 54,
   "metadata": {},
   "outputs": [
    {
     "name": "stdout",
     "output_type": "stream",
     "text": [
      "Good morning Massi\n",
      "Good morning Greyson\n"
     ]
    }
   ],
   "source": [
    "g.talk_to(m)\n",
    "m.talk_to(g)"
   ]
  },
  {
   "cell_type": "code",
   "execution_count": 55,
   "metadata": {},
   "outputs": [
    {
     "name": "stdout",
     "output_type": "stream",
     "text": [
      "The monster wendigo is at 95 health\n"
     ]
    }
   ],
   "source": [
    "m.attack(monster)"
   ]
  },
  {
   "cell_type": "code",
   "execution_count": 56,
   "metadata": {},
   "outputs": [
    {
     "name": "stdout",
     "output_type": "stream",
     "text": [
      "The monster wendigo is at 88 health\n",
      "The monster wendigo is at 81 health\n",
      "The monster wendigo is at 74 health\n",
      "The monster wendigo is at 67 health\n",
      "The monster wendigo is at 60 health\n",
      "The monster wendigo is at 53 health\n",
      "The monster wendigo is at 46 health\n",
      "The monster wendigo is at 39 health\n",
      "The monster wendigo is at 32 health\n",
      "The monster wendigo is at 25 health\n"
     ]
    }
   ],
   "source": [
    "for x in range(10):\n",
    "    g.attack(monster)"
   ]
  },
  {
   "cell_type": "code",
   "execution_count": 57,
   "metadata": {},
   "outputs": [
    {
     "name": "stdout",
     "output_type": "stream",
     "text": [
      "The monster wendigo is at 20 health\n",
      "The monster wendigo is at 15 health\n",
      "The monster wendigo is at 10 health\n"
     ]
    }
   ],
   "source": [
    "for x in range(3):\n",
    "    m.attack(monster)"
   ]
  },
  {
   "cell_type": "code",
   "execution_count": 58,
   "metadata": {},
   "outputs": [
    {
     "name": "stdout",
     "output_type": "stream",
     "text": [
      "The monster wendigo is at 5 health\n"
     ]
    }
   ],
   "source": [
    "m.attack(monster)"
   ]
  },
  {
   "cell_type": "code",
   "execution_count": 59,
   "metadata": {},
   "outputs": [
    {
     "name": "stdout",
     "output_type": "stream",
     "text": [
      "Good morning wendigo\n"
     ]
    }
   ],
   "source": [
    "m.talk_to(monster)"
   ]
  },
  {
   "cell_type": "code",
   "execution_count": null,
   "metadata": {
    "collapsed": true
   },
   "outputs": [],
   "source": []
  }
 ],
 "metadata": {
  "kernelspec": {
   "display_name": "Python 3",
   "language": "python",
   "name": "python3"
  },
  "language_info": {
   "codemirror_mode": {
    "name": "ipython",
    "version": 3
   },
   "file_extension": ".py",
   "mimetype": "text/x-python",
   "name": "python",
   "nbconvert_exporter": "python",
   "pygments_lexer": "ipython3",
   "version": "3.6.3"
  }
 },
 "nbformat": 4,
 "nbformat_minor": 2
}
