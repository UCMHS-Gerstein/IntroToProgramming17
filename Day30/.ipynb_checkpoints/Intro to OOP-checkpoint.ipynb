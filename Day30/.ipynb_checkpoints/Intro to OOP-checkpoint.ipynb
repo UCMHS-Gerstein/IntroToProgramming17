{
 "cells": [
  {
   "cell_type": "markdown",
   "metadata": {},
   "source": [
    "# Classes\n",
    "\n",
    "Classes are a construct that let you organize your code better."
   ]
  },
  {
   "cell_type": "markdown",
   "metadata": {},
   "source": [
    "## Classes & Libraries/Modules\n",
    "\n",
    "Think about the modules/libraries we can import. Once imported, we can use variables and functions from that module. As an example, the `math` module has a variable called `pi`. We can use a variable or function that belongs to a module by calling it on the name of the module. For instance, `math.pi` to access the `pi` variable or `math.sin(0)` to call the `sin()` function that belongs to the math module."
   ]
  },
  {
   "cell_type": "code",
   "execution_count": 1,
   "metadata": {},
   "outputs": [
    {
     "name": "stdout",
     "output_type": "stream",
     "text": [
      "Here are the variables and functions that belong to the math module.\n",
      "__doc__, __loader__, __name__, __package__, __spec__, acos, acosh, asin, asinh, atan, atan2, atanh, ceil, copysign, cos, cosh, degrees, e, erf, erfc, exp, expm1, fabs, factorial, floor, fmod, frexp, fsum, gamma, gcd, hypot, inf, isclose, isfinite, isinf, isnan, ldexp, lgamma, log, log10, log1p, log2, modf, nan, pi, pow, radians, sin, sinh, sqrt, tan, tanh, tau, trunc, "
     ]
    }
   ],
   "source": [
    "import math\n",
    "\n",
    "print('Here are the variables and functions that belong to the math module.')\n",
    "for x in dir(math):\n",
    "    print(x, end=', ')"
   ]
  },
  {
   "cell_type": "code",
   "execution_count": 2,
   "metadata": {},
   "outputs": [
    {
     "name": "stdout",
     "output_type": "stream",
     "text": [
      "math.pi returns the value of pi. 3.141592653589793\n",
      "math.sin(math.pi) will return the sin of pi. 1.2246467991473532e-16\n"
     ]
    }
   ],
   "source": [
    "print(f\"math.pi returns the value of pi. {math.pi}\")\n",
    "print(f\"math.sin(math.pi) will return the sin of pi. {math.sin(math.pi)}\")"
   ]
  },
  {
   "cell_type": "markdown",
   "metadata": {},
   "source": [
    "## Classes & Dictionaries\n",
    "\n",
    "The math module gives us a good way to think about the idea of a function or variable belonging to some other object. However, the math module is always the same math module. Classes will be used as templates to create objects - each individual object will follow the same framework, but can have different properties. Let's take a look at a few dictionaries - each one follows the same framework but has different properties: the keys are the same, but the values are different."
   ]
  },
  {
   "cell_type": "code",
   "execution_count": 3,
   "metadata": {
    "collapsed": true
   },
   "outputs": [],
   "source": [
    "maurice = {'name': 'Maurice', 'age': 9, 'species': 'cat', 'description': 'fluffy'}\n",
    "fred = {'name': 'Fred', 'age': 17, 'species': 'cat', 'description': 'gigantic'}\n",
    "aaron_purr = {'name': 'Aaron Purr', 'age': 2, 'species': 'cat', 'description': 'grey tabby'}\n",
    "mayim = {'name': 'Mayim', 'age': 14, 'species': 'dog', 'description': 'short and round'}\n",
    "rumi = {'name': 'Rumi', 'age': 3, 'species': 'dog', 'description': 'tall and thin'}"
   ]
  },
  {
   "cell_type": "markdown",
   "metadata": {},
   "source": [
    "Each of the dictionaries above describes a specific pet. All of them follow the same format, so we could imagine a generic pet that looks something like this:\n",
    "\n",
    "```python\n",
    "generic_pet = {'name': name_string, 'age': integer_value, 'species': species_string, 'description': description_string}\n",
    "```\n",
    "\n",
    "This would give you a syntax error because `name_string`, `integer_Value`, `species_string`, and `description_string` are not defined, but the general idea here is that we created a generic description that could apply to any pet - by filling it in with information, we can create an *instance* of a pet - a specific pet created based on the framework of our template."
   ]
  },
  {
   "cell_type": "markdown",
   "metadata": {},
   "source": [
    "## Classes\n",
    "\n",
    "A class is a template. An object is an instance created from that template. Let's take a look at an example of a simple class"
   ]
  },
  {
   "cell_type": "code",
   "execution_count": 4,
   "metadata": {},
   "outputs": [],
   "source": [
    "class Simple(object):\n",
    "    \"\"\"Simple is a barebones example of a class\"\"\"\n",
    "    \n",
    "    def __init__(self):\n",
    "        \"\"\"Initialize a new instance of the Simple class\"\"\"\n",
    "        self.response = 'Hello'"
   ]
  },
  {
   "cell_type": "markdown",
   "metadata": {},
   "source": [
    "The class above isn't very useful, but it shows the general syntax. The `__init__(self)` function is how a new object is created from our template. Within the definition of a class we refer to its variables as `self.name` rather than just `name`. Every time a new object is created from the Simple class, the variable `response` is assigned the value 'Hello'. Now Let's create a new object."
   ]
  },
  {
   "cell_type": "code",
   "execution_count": 5,
   "metadata": {
    "collapsed": true
   },
   "outputs": [],
   "source": [
    "new_object = Simple()"
   ]
  },
  {
   "cell_type": "markdown",
   "metadata": {},
   "source": [
    "When I called the line above this, it created a new object based on the Simple class, with a response value of 'Hello', and assigned that value to new_object. If I wanted to access the response variable, I would \n",
    "use *dot notation* - the name of the object, followed by a period, followed by the name of the variable. `new_object.response` will return the value 'Hello' because that is the value of 'response'"
   ]
  },
  {
   "cell_type": "code",
   "execution_count": 6,
   "metadata": {},
   "outputs": [
    {
     "data": {
      "text/plain": [
       "'Hello'"
      ]
     },
     "execution_count": 6,
     "metadata": {},
     "output_type": "execute_result"
    }
   ],
   "source": [
    "new_object.response"
   ]
  },
  {
   "cell_type": "markdown",
   "metadata": {},
   "source": [
    "I can make another object from the simple class. It will have its own copy of the `response` variable."
   ]
  },
  {
   "cell_type": "code",
   "execution_count": 7,
   "metadata": {},
   "outputs": [
    {
     "data": {
      "text/plain": [
       "'Hello'"
      ]
     },
     "execution_count": 7,
     "metadata": {},
     "output_type": "execute_result"
    }
   ],
   "source": [
    "second_object = Simple()\n",
    "second_object.response"
   ]
  },
  {
   "cell_type": "markdown",
   "metadata": {},
   "source": [
    "Right now, there isn't much reason to create multiple Simple objects, because any objects created based on this class are identical. Let's make a more interesting class."
   ]
  },
  {
   "cell_type": "code",
   "execution_count": 8,
   "metadata": {
    "collapsed": true
   },
   "outputs": [],
   "source": [
    "class Pet(object):\n",
    "    \"\"\"Pet object defines a pet\"\"\"\n",
    "    \n",
    "    def __init__(self, name, species):\n",
    "        \"\"\"name is pet's name, species is type of pet\"\"\"\n",
    "        \n",
    "        # Assign the parameters given in the function to the variables\n",
    "        # belonging to the new Pet object being created\n",
    "        self.name = name\n",
    "        self.species = species"
   ]
  },
  {
   "cell_type": "markdown",
   "metadata": {},
   "source": [
    "Now I'm going to create a few Pet objects"
   ]
  },
  {
   "cell_type": "code",
   "execution_count": 9,
   "metadata": {
    "collapsed": true
   },
   "outputs": [],
   "source": [
    "fred = Pet(\"Fred\", \"cat\")\n",
    "momo = Pet(\"Maurice\", \"cat\")\n",
    "mayim = Pet(\"Mayim\", \"dog\")"
   ]
  },
  {
   "cell_type": "markdown",
   "metadata": {},
   "source": [
    "Let's try accessing the properties of the Pet objects"
   ]
  },
  {
   "cell_type": "code",
   "execution_count": null,
   "metadata": {},
   "outputs": [
    {
     "name": "stdout",
     "output_type": "stream",
     "text": [
      "Fred\n",
      "cat\n",
      "---\n",
      "Maurice\n",
      "cat\n",
      "---\n",
      "Mayim\n",
      "dog\n"
     ]
    }
   ],
   "source": [
    "print(fred.name)\n",
    "print(fred.species)\n",
    "print('---')\n",
    "print(momo.name)\n",
    "print(momo.species)\n",
    "print('---')\n",
    "print(mayim.name)\n",
    "print(mayim.species)"
   ]
  },
  {
   "cell_type": "markdown",
   "metadata": {},
   "source": [
    "An object can be used like pretty much any other data type. What does this code do?"
   ]
  },
  {
   "cell_type": "code",
   "execution_count": null,
   "metadata": {},
   "outputs": [],
   "source": [
    "pets = []\n",
    "\n",
    "while True:\n",
    "    pets.append(Pet(input('Name?  '), input('Species?  ')))\n",
    "    if input('Continue? Y/N  ').lower() == 'n':\n",
    "        break\n",
    "\n",
    "for pet in pets:\n",
    "    print(f\"{pet.name} is a {pet.species}\")"
   ]
  }
 ],
 "metadata": {
  "kernelspec": {
   "display_name": "Python 3",
   "language": "python",
   "name": "python3"
  },
  "language_info": {
   "codemirror_mode": {
    "name": "ipython",
    "version": 3
   },
   "file_extension": ".py",
   "mimetype": "text/x-python",
   "name": "python",
   "nbconvert_exporter": "python",
   "pygments_lexer": "ipython3",
   "version": "3.6.3"
  }
 },
 "nbformat": 4,
 "nbformat_minor": 2
}
