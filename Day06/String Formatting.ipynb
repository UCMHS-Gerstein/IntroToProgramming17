{
 "cells": [
  {
   "cell_type": "markdown",
   "metadata": {},
   "source": [
    "# Day 6 - More strings, variables, and printing"
   ]
  },
  {
   "cell_type": "markdown",
   "metadata": {},
   "source": [
    "## Variables Review\n",
    "\n",
    "* Variables are names representing a value\n",
    "* Create or modify variables with an **assignment statement**\n",
    "* An assignment statement must have the variable you're assigning to on the left, followed by a single equal sign (=), followed by a value or a statement that produces a value"
   ]
  },
  {
   "cell_type": "code",
   "execution_count": 31,
   "metadata": {
    "collapsed": false
   },
   "outputs": [
    {
     "name": "stdout",
     "output_type": "stream",
     "text": [
      "Maurice and Fred are 8 years apart.\n"
     ]
    }
   ],
   "source": [
    "# these variables store strings\n",
    "cat_1 = \"Maurice\"\n",
    "cat_2 = \"Fred\"\n",
    "\n",
    "# these variables store ints\n",
    "cat_1_age = 7\n",
    "cat_2_age = 15\n",
    "\n",
    "# calculate this variable from existing variables\n",
    "age_difference = cat_2_age - cat_1_age\n",
    "\n",
    "# print the age difference\n",
    "print(cat_1, \"and\", cat_2, \"are\", age_difference, \"years apart.\")"
   ]
  },
  {
   "cell_type": "markdown",
   "metadata": {},
   "source": [
    "## EXERCISE\n",
    "\n",
    "In the Python interactive console, create a few variables and perform math using them. Make sure the results are what you expect"
   ]
  },
  {
   "cell_type": "markdown",
   "metadata": {},
   "source": [
    "## Strings\n",
    "\n",
    "Remember that strings are created by putting quotes (either single or double) around something. If you need to use a double or single quote inside a string, you can either use whichever one you didn't use to create the string, or use an escape character on the quote/apostrophe inside the string."
   ]
  },
  {
   "cell_type": "code",
   "execution_count": 4,
   "metadata": {
    "collapsed": false
   },
   "outputs": [
    {
     "name": "stdout",
     "output_type": "stream",
     "text": [
      "I'm a string\n",
      "I am also a string\n",
      "I said \"I'm a string\" already!\n"
     ]
    }
   ],
   "source": [
    "print(\"I'm a string\")\n",
    "print('I am also a string')\n",
    "print('I said \"I\\'m a string\" already!')"
   ]
  },
  {
   "cell_type": "markdown",
   "metadata": {},
   "source": [
    "### Formatting Strings\n",
    "\n",
    "Sometimes we want to include variables in our strings. In a print function, you can include multiple comma-separated arguments, but that can get unwieldy. Additionally, sometimes you want to modify the string itself. There are a variety of ways to do this, but I'm going to highlight a few of the primary methods."
   ]
  },
  {
   "cell_type": "code",
   "execution_count": 15,
   "metadata": {
    "collapsed": false
   },
   "outputs": [
    {
     "name": "stdout",
     "output_type": "stream",
     "text": [
      "Fred is a gigantic cat.\n",
      "Maurice is 7 years old\n",
      "Maurice and Fred are both black and white cats.\n"
     ]
    }
   ],
   "source": [
    "# You can put the letter f in front of a string, and putting your variables in curly brackets inside the string\n",
    "\n",
    "print(f\"{cat_2} is a gigantic cat.\")\n",
    "print(f'{cat_1} is {cat_1_age} years old')\n",
    "\n",
    "# I've created a new string here and saved it to a variable\n",
    "description = f\"{cat_1} and {cat_2} are both black and white cats.\"\n",
    "print(description)"
   ]
  },
  {
   "cell_type": "code",
   "execution_count": 16,
   "metadata": {
    "collapsed": false
   },
   "outputs": [
    {
     "name": "stdout",
     "output_type": "stream",
     "text": [
      "I take a lot of pictures of Maurice and Fred\n",
      "Maurice and Fred are 7 and 15 years old\n",
      "I can number the brackets to control the position in which Maurice and Fred's names are printed\n",
      "I can number the brackets to control the position in which Fred and Maurice's names are printed\n"
     ]
    }
   ],
   "source": [
    "# You can also use empty brackets in your string and append .format() with a comma-separated list of the variables you want to insert\n",
    "\n",
    "print(\"I take a lot of pictures of {} and {}\".format(cat_1, cat_2))\n",
    "print(\"{} and {} are {} and {} years old\".format(cat_1, cat_2, cat_1_age, cat_2_age))\n",
    "\n",
    "# When you do this, you can number the brackets to control which bracket displays each argument\n",
    "# The first argument is number 0, not number 1\n",
    "print(\"I can number the brackets to control the position in which {} and {}'s names are printed\".format(cat_1, cat_2))\n",
    "print(\"I can number the brackets to control the position in which {1} and {0}'s names are printed\".format(cat_1, cat_2))"
   ]
  },
  {
   "cell_type": "code",
   "execution_count": 20,
   "metadata": {
    "collapsed": false
   },
   "outputs": [
    {
     "name": "stdout",
     "output_type": "stream",
     "text": [
      "a b c d\n",
      "cats dogs unicorns chocolate\n",
      "1 two 3.0 4.0\n",
      "3 * 5 = 15\n",
      "1 * 0 = 0\n"
     ]
    }
   ],
   "source": [
    "# You can even save a string that has the brackets and use that repeatedly\n",
    "\n",
    "f_string = \"{} {} {} {}\"\n",
    "\n",
    "print(f_string.format('a', 'b', 'c', 'd'))\n",
    "print(f_string.format('cats', 'dogs', 'unicorns', 'chocolate'))\n",
    "print(f_string.format(1, \"two\", 3.0, \"4.0\"))\n",
    "\n",
    "math_string = \"{} * {} = {}\"\n",
    "\n",
    "print(math_string.format(3, 5, 15))\n",
    "print(math_string.format(1, 0, 0))"
   ]
  },
  {
   "cell_type": "code",
   "execution_count": 26,
   "metadata": {
    "collapsed": false
   },
   "outputs": [
    {
     "name": "stdout",
     "output_type": "stream",
     "text": [
      "UnionCountyMagnetHighSchool\n",
      "Union County Magnet High School\n",
      "a*b*c\n"
     ]
    }
   ],
   "source": [
    "# You can also concatenate (join) strings. This doesn't work with anything that isn't a string\n",
    "\n",
    "a = \"Union\"\n",
    "b = \"County\"\n",
    "c = \"Magnet\"\n",
    "d = \"High\"\n",
    "e = \"School\"\n",
    "\n",
    "print(a + b + c + d + e)\n",
    "\n",
    "# Or you can use the join() function\n",
    "# put all the strings you want to join in a set of parentheses (which creates something called a tuple)\n",
    "# that tuple belongs inside the parentheses for join()\n",
    "# Use .join() on a string you want to put in between each string you're joining\n",
    "print(\" \".join((a,b,c,d,e)))\n",
    "print(\"*\".join((\"a\", \"b\", \"c\")))"
   ]
  },
  {
   "cell_type": "code",
   "execution_count": 29,
   "metadata": {
    "collapsed": false
   },
   "outputs": [
    {
     "name": "stdout",
     "output_type": "stream",
     "text": [
      "This text is\n",
      "on two separate lines\n"
     ]
    }
   ],
   "source": [
    "# You can create a new line using \\n\n",
    "\n",
    "print(\"This text is\\non two separate lines\")"
   ]
  },
  {
   "cell_type": "code",
   "execution_count": 32,
   "metadata": {
    "collapsed": false
   },
   "outputs": [
    {
     "name": "stdout",
     "output_type": "stream",
     "text": [
      "This is a long string.\n",
      "It exists on multiple lines.\n",
      "Every new line I create is a new line in the string.\n",
      "You can also use this for really long comments.\n",
      "\n"
     ]
    }
   ],
   "source": [
    "# You can also create a multi-line string using three sets of double quotes\n",
    "long_string = \"\"\"This is a long string.\n",
    "It exists on multiple lines.\n",
    "Every new line I create is a new line in the string.\n",
    "You can also use this for really long comments.\n",
    "\"\"\"\n",
    "\n",
    "print(long_string)"
   ]
  },
  {
   "cell_type": "markdown",
   "metadata": {},
   "source": [
    "# Classwork\n",
    "\n",
<<<<<<< HEAD
=======
    "**Both of these files should be created**. The first one can be as simple as copying and pasting from your console, since you should already be doing this anyway.\n",
    "\n",
>>>>>>> class-dev
    "In a file called ```day06.py``` demonstrate the use of each of these string formatting methods. Worth 5 points, graded solely on technical correctness.\n",
    "\n",
    "In a file called ```day06story.py``` we're going to create a [mad-libs type story](https://en.wikipedia.org/wiki/Mad_Libs).\n",
    "\n",
    "* Create variables that describe what type of word should be used (each variable should be named differently, you should use numbers to do this)\n",
    "* Create a story that inserts those variables into appropriate points\n",
    "* Make sure you include a value for each of your variables\n",
    "* You may use any  method of formatting you like.\n",
    "* After I get back, we're going to build on this\n",
    "\n",
    "Grading - 10 points - 7 for technical correctness, 3 for challenge\n",
<<<<<<< HEAD
    "Submitting your work - Mark assignment complete as Google Classroom, make sure both files are saved under the right name"
=======
    "Submitting your work - Mark assignment complete as Google Classroom, make sure both files are saved under the right name\n",
    "\n",
    "## Clarification on the story\n",
    "\n",
    "The name of the variable should indicate what type of word you're looking for. For instance, you might have ```noun1```, ```noun2```, ```name```, and ```activity```. Each should be assigned a value that will be printed in the story for now. The story itself should be a string with spots that will insert the *value* (not the name) of the appropriate variable in spots you specify.\n",
    "\n",
    "As an example:\n",
    "```python\n",
    "name1 = 'Mayim'\n",
    "name2 = 'Rumi'\n",
    "animal_type_1 = 'dog'\n",
    "animal_type_2 = 'dog'\n",
    "activity1 = 'eat'\n",
    "activity2 = 'sleep'\n",
    "\n",
    "# The story should be a string that is set up so that when printed, it will print the story with the values that I assigned to the variables.\n",
    "\n",
    "story = \"Insert a string here\"\n",
    "\n",
    "# Don't forget to print your story\n",
    "\n",
    "```\n",
    "\n",
    "When printed, the story might be something like \"Mayim is a dog. Rumi is a dog. Mayim likes to eat. Rumi likes to sleep.\" If I were to change the variables, the story might become \"Mickey Mouse is a unicorn. Pusheen is a cat. Mickey mouse likes to dance. Pusheen likes to sing.\"\n",
    "\n",
    "Your story should be more entertaining than mine."
>>>>>>> class-dev
   ]
  }
 ],
 "metadata": {
  "kernelspec": {
   "display_name": "Python 3",
   "language": "python",
   "name": "python3"
  },
  "language_info": {
   "codemirror_mode": {
    "name": "ipython",
    "version": 3
   },
   "file_extension": ".py",
   "mimetype": "text/x-python",
   "name": "python",
   "nbconvert_exporter": "python",
   "pygments_lexer": "ipython3",
   "version": "3.6.0"
  }
 },
 "nbformat": 4,
 "nbformat_minor": 2
}
